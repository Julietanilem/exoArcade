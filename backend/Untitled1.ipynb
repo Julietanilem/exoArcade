{
 "cells": [
  {
   "cell_type": "code",
   "execution_count": 93,
   "id": "9888fdab-700a-42c3-841c-6a6347753d8c",
   "metadata": {},
   "outputs": [],
   "source": [
    "res = '{\\n  \"question\": \"¿Cuál es el método utilizado para descubrir el exoplaneta Kepler-371 b?\",\\n  \"answers\": [\\n    \"Método de velocidad radial\",\\n    \"Método de microlentes gravitacionales\",\\n    \"Método de tránsito\"\\n  ],\\n  \"correct_answer\": \"Método de tránsito\"\\n}\\n'"
   ]
  },
  {
   "cell_type": "code",
   "execution_count": 140,
   "id": "cbb7ba22-252b-4f64-a2b3-9b035f1ea834",
   "metadata": {},
   "outputs": [
    {
     "name": "stdout",
     "output_type": "stream",
     "text": [
      "['Método de velocidad radial', 'Método de microlentes gravitacionales', 'Método de tránsito  ']\n"
     ]
    }
   ],
   "source": [
    "res = res.replace(\"\\\\s\", \"\")\n",
    "res =res.replace(\"\\n\", \"\")\n",
    "res = res.replace(\"{\", \"\").lstrip()\n",
    "partes = res.split(\":\")\n",
    "\n",
    "question = partes[1]\n",
    "question = question.split(\"\\\"\")[1]\n",
    "\n",
    "answers = partes[2]\n",
    "answers = answers.replace(\"\\\"\", \"\").replace( \"[\", \"\").split(\"]\")[0]\n",
    "answers = answers.replace(\"\\\\s\", \"\").lstrip()\n",
    "answers = answers.split(\",\")\n",
    "answers = [answer.lstrip() for answer in answers]\n",
    "\n",
    "print(answers)\n",
    "\n",
    "resCorrecta = partes[3]\n",
    "resCorrecta =  resCorrecta.split(\"\\\"\")[1]\n"
   ]
  },
  {
   "cell_type": "code",
   "execution_count": 95,
   "id": "47893f12-076c-49c7-92eb-8ae747e43d9c",
   "metadata": {},
   "outputs": [],
   "source": [
    "import json"
   ]
  },
  {
   "cell_type": "code",
   "execution_count": null,
   "id": "a209403e-fe34-42c8-b00e-90c56e01bde1",
   "metadata": {},
   "outputs": [],
   "source": []
  }
 ],
 "metadata": {
  "kernelspec": {
   "display_name": "Python 3 (ipykernel)",
   "language": "python",
   "name": "python3"
  },
  "language_info": {
   "codemirror_mode": {
    "name": "ipython",
    "version": 3
   },
   "file_extension": ".py",
   "mimetype": "text/x-python",
   "name": "python",
   "nbconvert_exporter": "python",
   "pygments_lexer": "ipython3",
   "version": "3.11.9"
  }
 },
 "nbformat": 4,
 "nbformat_minor": 5
}
